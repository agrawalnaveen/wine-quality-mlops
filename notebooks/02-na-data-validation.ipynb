{
 "cells": [
  {
   "cell_type": "code",
   "execution_count": 2,
   "metadata": {},
   "outputs": [],
   "source": [
    "from great_expectations.data_context import FileDataContext\n",
    "\n",
    "project_root_dir = \"./\"\n",
    "context = FileDataContext.create(project_root_dir=project_root_dir)"
   ]
  },
  {
   "cell_type": "code",
   "execution_count": 3,
   "metadata": {},
   "outputs": [],
   "source": [
    "# Define datasource with multiple files\n",
    "datasource_name = \"wine_quality_datasource\"\n",
    "path_to_folder_containing_csv_files=\"data/raw/unzip_raw_wine_data\"\n",
    "datasource = context.sources.add_pandas_filesystem(\n",
    "    name=datasource_name, base_directory=path_to_folder_containing_csv_files\n",
    ")\n",
    "\n",
    "# Define data asset\n",
    "asset_name = \"wine_quality_data_asset\"\n",
    "batching_regex = r\"winequality-(?P<color>.+)\\.csv\"\n",
    "asset = datasource.add_csv_asset(asset_name, batching_regex=batching_regex , delimiter=\";\")"
   ]
  },
  {
   "cell_type": "code",
   "execution_count": 4,
   "metadata": {},
   "outputs": [
    {
     "name": "stdout",
     "output_type": "stream",
     "text": [
      "('color', 'path')\n",
      "{'path': 'data/raw/unzip_raw_wine_data/winequality-red.csv', 'reader_method': 'read_csv', 'reader_options': {'delimiter': ';'}}\n"
     ]
    }
   ],
   "source": [
    "\n",
    "# Build batch request\n",
    "## Check data asset options\n",
    "print(asset.batch_request_options)\n",
    "\n",
    "options_dict = {'color': 'red'}\n",
    "batch_request = asset.build_batch_request(options=options_dict)\n",
    "batches = asset.get_batch_list_from_batch_request(batch_request)\n",
    "# Check returned batches\n",
    "for batch in batches:\n",
    "    print(batch.batch_spec)"
   ]
  },
  {
   "cell_type": "code",
   "execution_count": 5,
   "metadata": {},
   "outputs": [],
   "source": [
    "# Create Expectations suite\n",
    "expectation_suite_name = \"red_wine_expectation_suite\"\n",
    "context.add_or_update_expectation_suite(expectation_suite_name)\n",
    "\n",
    "# Create a Validator\n",
    "validator = context.get_validator(batch_request=batch_request,\n",
    "    expectation_suite_name=expectation_suite_name,\n",
    ")"
   ]
  },
  {
   "cell_type": "code",
   "execution_count": null,
   "metadata": {},
   "outputs": [],
   "source": [
    "import pandas as pd\n",
    "df = pd.read_csv('data/raw/unzip_raw_wine_data/winequality-red.csv', delimiter=';')\n",
    "df.head()"
   ]
  },
  {
   "cell_type": "code",
   "execution_count": null,
   "metadata": {},
   "outputs": [],
   "source": [
    "df.info()"
   ]
  },
  {
   "cell_type": "code",
   "execution_count": null,
   "metadata": {},
   "outputs": [],
   "source": [
    "df.describe()"
   ]
  },
  {
   "cell_type": "code",
   "execution_count": null,
   "metadata": {},
   "outputs": [],
   "source": []
  },
  {
   "cell_type": "code",
   "execution_count": 6,
   "metadata": {},
   "outputs": [
    {
     "data": {
      "application/vnd.jupyter.widget-view+json": {
       "model_id": "ed4f1d452d7148ada52468537cf6cc05",
       "version_major": 2,
       "version_minor": 0
      },
      "text/plain": [
       "Calculating Metrics:   0%|          | 0/6 [00:00<?, ?it/s]"
      ]
     },
     "metadata": {},
     "output_type": "display_data"
    },
    {
     "data": {
      "text/plain": [
       "{\n",
       "  \"success\": true,\n",
       "  \"result\": {\n",
       "    \"element_count\": 1599,\n",
       "    \"unexpected_count\": 0,\n",
       "    \"unexpected_percent\": 0.0,\n",
       "    \"partial_unexpected_list\": []\n",
       "  },\n",
       "  \"meta\": {},\n",
       "  \"exception_info\": {\n",
       "    \"raised_exception\": false,\n",
       "    \"exception_traceback\": null,\n",
       "    \"exception_message\": null\n",
       "  }\n",
       "}"
      ]
     },
     "execution_count": 6,
     "metadata": {},
     "output_type": "execute_result"
    }
   ],
   "source": [
    "# Create and run an Expectation\n",
    "#list_of_columns = list(df.columns)\n",
    "validator.expect_column_values_to_not_be_null(column='chlorides')"
   ]
  },
  {
   "cell_type": "code",
   "execution_count": 7,
   "metadata": {},
   "outputs": [
    {
     "data": {
      "application/vnd.jupyter.widget-view+json": {
       "model_id": "3ed8d10f2ba5418b9af5d6bceb73ae61",
       "version_major": 2,
       "version_minor": 0
      },
      "text/plain": [
       "Calculating Metrics:   0%|          | 0/1 [00:00<?, ?it/s]"
      ]
     },
     "metadata": {},
     "output_type": "display_data"
    },
    {
     "data": {
      "text/plain": [
       "{\n",
       "  \"success\": true,\n",
       "  \"result\": {\n",
       "    \"observed_value\": \"int64\"\n",
       "  },\n",
       "  \"meta\": {},\n",
       "  \"exception_info\": {\n",
       "    \"raised_exception\": false,\n",
       "    \"exception_traceback\": null,\n",
       "    \"exception_message\": null\n",
       "  }\n",
       "}"
      ]
     },
     "execution_count": 7,
     "metadata": {},
     "output_type": "execute_result"
    }
   ],
   "source": [
    "validator.expect_column_values_to_be_of_type(column='quality', type_='int64')"
   ]
  },
  {
   "cell_type": "code",
   "execution_count": null,
   "metadata": {},
   "outputs": [],
   "source": [
    "validator.expect_table_columns_to_match_ordered_list(column_list=list_of_columns)"
   ]
  },
  {
   "cell_type": "code",
   "execution_count": 8,
   "metadata": {},
   "outputs": [],
   "source": [
    "# Save Expectations\n",
    "validator.save_expectation_suite(discard_failed_expectations=False)"
   ]
  },
  {
   "cell_type": "code",
   "execution_count": null,
   "metadata": {},
   "outputs": [],
   "source": [
    "my_suite = context.get_expectation_suite(expectation_suite_name)\n",
    "my_suite.show_expectations_by_expectation_type()"
   ]
  },
  {
   "cell_type": "code",
   "execution_count": 9,
   "metadata": {},
   "outputs": [],
   "source": [
    "# Create a Checkpoint\n",
    "checkpoint_name = \"red_wine_checkpoint\"\n",
    "checkpoint = context.add_or_update_checkpoint(\n",
    "    name=checkpoint_name,\n",
    "    validations=[\n",
    "        {\n",
    "            \"batch_request\": batch_request,\n",
    "            \"expectation_suite_name\": expectation_suite_name,\n",
    "        },\n",
    "    ],\n",
    ")"
   ]
  },
  {
   "cell_type": "code",
   "execution_count": 10,
   "metadata": {},
   "outputs": [
    {
     "data": {
      "application/vnd.jupyter.widget-view+json": {
       "model_id": "62123941e7284ef79907a9cf7788b5a5",
       "version_major": 2,
       "version_minor": 0
      },
      "text/plain": [
       "Calculating Metrics:   0%|          | 0/8 [00:00<?, ?it/s]"
      ]
     },
     "metadata": {},
     "output_type": "display_data"
    },
    {
     "data": {
      "text/plain": [
       "{'local_site': 'file:///home/naveen/mlops/wine-quality-mlops/gx/uncommitted/data_docs/local_site/index.html'}"
      ]
     },
     "execution_count": 10,
     "metadata": {},
     "output_type": "execute_result"
    }
   ],
   "source": [
    "# Run Checkpoint \n",
    "checkpoint_result = checkpoint.run()\n",
    "\n",
    "# Build Data Docs\n",
    "context.build_data_docs()"
   ]
  },
  {
   "cell_type": "code",
   "execution_count": 13,
   "metadata": {},
   "outputs": [
    {
     "data": {
      "text/plain": [
       "[{'site_name': 'local_site',\n",
       "  'site_url': 'file:///home/naveen/mlops/wine-quality-mlops/gx/uncommitted/data_docs/local_site/index.html'}]"
      ]
     },
     "execution_count": 13,
     "metadata": {},
     "output_type": "execute_result"
    }
   ],
   "source": [
    "context.get_docs_sites_urls()"
   ]
  },
  {
   "cell_type": "code",
   "execution_count": 19,
   "metadata": {},
   "outputs": [
    {
     "data": {
      "text/plain": [
       "{\n",
       "  \"success\": true,\n",
       "  \"results\": [\n",
       "    {\n",
       "      \"success\": true,\n",
       "      \"expectation_config\": {\n",
       "        \"expectation_type\": \"expect_column_values_to_not_be_null\",\n",
       "        \"kwargs\": {\n",
       "          \"column\": \"chlorides\",\n",
       "          \"batch_id\": \"wine_quality_datasource-wine_quality_data_asset-color_red\"\n",
       "        },\n",
       "        \"meta\": {}\n",
       "      },\n",
       "      \"result\": {\n",
       "        \"element_count\": 1599,\n",
       "        \"unexpected_count\": 0,\n",
       "        \"unexpected_percent\": 0.0,\n",
       "        \"partial_unexpected_list\": [],\n",
       "        \"partial_unexpected_counts\": [],\n",
       "        \"partial_unexpected_index_list\": []\n",
       "      },\n",
       "      \"meta\": {},\n",
       "      \"exception_info\": {\n",
       "        \"raised_exception\": false,\n",
       "        \"exception_traceback\": null,\n",
       "        \"exception_message\": null\n",
       "      }\n",
       "    },\n",
       "    {\n",
       "      \"success\": true,\n",
       "      \"expectation_config\": {\n",
       "        \"expectation_type\": \"expect_column_values_to_be_of_type\",\n",
       "        \"kwargs\": {\n",
       "          \"column\": \"quality\",\n",
       "          \"type_\": \"int64\",\n",
       "          \"batch_id\": \"wine_quality_datasource-wine_quality_data_asset-color_red\"\n",
       "        },\n",
       "        \"meta\": {}\n",
       "      },\n",
       "      \"result\": {\n",
       "        \"observed_value\": \"int64\"\n",
       "      },\n",
       "      \"meta\": {},\n",
       "      \"exception_info\": {\n",
       "        \"raised_exception\": false,\n",
       "        \"exception_traceback\": null,\n",
       "        \"exception_message\": null\n",
       "      }\n",
       "    }\n",
       "  ],\n",
       "  \"evaluation_parameters\": {},\n",
       "  \"statistics\": {\n",
       "    \"evaluated_expectations\": 2,\n",
       "    \"successful_expectations\": 2,\n",
       "    \"unsuccessful_expectations\": 0,\n",
       "    \"success_percent\": 100.0\n",
       "  },\n",
       "  \"meta\": {\n",
       "    \"great_expectations_version\": \"0.18.8\",\n",
       "    \"expectation_suite_name\": \"red_wine_expectation_suite\",\n",
       "    \"run_id\": {\n",
       "      \"run_name\": null,\n",
       "      \"run_time\": \"2024-02-03T17:08:29.196710+05:30\"\n",
       "    },\n",
       "    \"batch_spec\": {\n",
       "      \"path\": \"data/raw/unzip_raw_wine_data/winequality-red.csv\",\n",
       "      \"reader_method\": \"read_csv\",\n",
       "      \"reader_options\": {\n",
       "        \"delimiter\": \";\"\n",
       "      }\n",
       "    },\n",
       "    \"batch_markers\": {\n",
       "      \"ge_load_time\": \"20240203T113829.214066Z\",\n",
       "      \"pandas_data_fingerprint\": \"d653a10ca2b6b0644df5c2f235fc5de0\"\n",
       "    },\n",
       "    \"active_batch_definition\": {\n",
       "      \"datasource_name\": \"wine_quality_datasource\",\n",
       "      \"data_connector_name\": \"fluent\",\n",
       "      \"data_asset_name\": \"wine_quality_data_asset\",\n",
       "      \"batch_identifiers\": {\n",
       "        \"path\": \"winequality-red.csv\",\n",
       "        \"color\": \"red\"\n",
       "      }\n",
       "    },\n",
       "    \"validation_time\": \"20240203T113829.253673Z\",\n",
       "    \"checkpoint_name\": \"red_wine_checkpoint\",\n",
       "    \"validation_id\": null,\n",
       "    \"checkpoint_id\": null\n",
       "  }\n",
       "}"
      ]
     },
     "execution_count": 19,
     "metadata": {},
     "output_type": "execute_result"
    }
   ],
   "source": [
    "checkpoint_result.list_validation_results()[0]"
   ]
  },
  {
   "cell_type": "code",
   "execution_count": null,
   "metadata": {},
   "outputs": [],
   "source": []
  }
 ],
 "metadata": {
  "kernelspec": {
   "display_name": ".venv",
   "language": "python",
   "name": "python3"
  },
  "language_info": {
   "codemirror_mode": {
    "name": "ipython",
    "version": 3
   },
   "file_extension": ".py",
   "mimetype": "text/x-python",
   "name": "python",
   "nbconvert_exporter": "python",
   "pygments_lexer": "ipython3",
   "version": "3.12.1"
  }
 },
 "nbformat": 4,
 "nbformat_minor": 2
}
