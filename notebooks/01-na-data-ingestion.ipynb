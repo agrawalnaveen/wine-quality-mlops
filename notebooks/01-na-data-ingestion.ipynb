{
 "cells": [
  {
   "cell_type": "code",
   "execution_count": 5,
   "metadata": {},
   "outputs": [
    {
     "data": {
      "text/plain": [
       "'/home/naveen/mlops/wine-quality-mlops'"
      ]
     },
     "execution_count": 5,
     "metadata": {},
     "output_type": "execute_result"
    }
   ],
   "source": [
    "pwd"
   ]
  },
  {
   "cell_type": "code",
   "execution_count": 6,
   "metadata": {},
   "outputs": [],
   "source": [
    "import yaml\n",
    "# Load configuration from the YAML file\n",
    "with open('config.yaml', 'rt') as f:\n",
    "    config = yaml.safe_load(f.read())"
   ]
  },
  {
   "cell_type": "code",
   "execution_count": 8,
   "metadata": {},
   "outputs": [
    {
     "data": {
      "text/plain": [
       "'data/raw/zipped_raw_wine_data'"
      ]
     },
     "execution_count": 8,
     "metadata": {},
     "output_type": "execute_result"
    }
   ],
   "source": [
    "config[\"data_ingestion\"][\"zip_data_file_path\"]"
   ]
  },
  {
   "cell_type": "code",
   "execution_count": 11,
   "metadata": {},
   "outputs": [],
   "source": [
    "from urllib import request\n",
    "from zipfile import ZipFile\n",
    "\n",
    "url = \"https://archive.ics.uci.edu/static/public/186/wine+quality.zip\"\n",
    "zip_data_file_path = config[\"data_ingestion\"][\"zip_data_file_path\"]\n",
    "unzip_data_file_path = config[\"data_ingestion\"][\"unzipped_data_file_path\"]\n",
    "\n",
    "try:\n",
    "    filename, headers = request.urlretrieve(url, zip_data_file_path)\n",
    "except Exception as e:\n",
    "    raise e\n",
    "\n",
    "with ZipFile(zip_data_file_path, 'r') as zip_file:\n",
    "    zip_file.extractall(unzip_data_file_path)"
   ]
  },
  {
   "cell_type": "code",
   "execution_count": 12,
   "metadata": {},
   "outputs": [
    {
     "name": "stdout",
     "output_type": "stream",
     "text": [
      "Server: nginx/1.25.3\n",
      "Date: Sun, 28 Jan 2024 13:54:03 GMT\n",
      "Transfer-Encoding: chunked\n",
      "Connection: close\n",
      "\n",
      "\n"
     ]
    }
   ],
   "source": [
    "print(headers)"
   ]
  },
  {
   "cell_type": "code",
   "execution_count": null,
   "metadata": {},
   "outputs": [],
   "source": []
  }
 ],
 "metadata": {
  "kernelspec": {
   "display_name": ".venv",
   "language": "python",
   "name": "python3"
  },
  "language_info": {
   "codemirror_mode": {
    "name": "ipython",
    "version": 3
   },
   "file_extension": ".py",
   "mimetype": "text/x-python",
   "name": "python",
   "nbconvert_exporter": "python",
   "pygments_lexer": "ipython3",
   "version": "3.12.1"
  }
 },
 "nbformat": 4,
 "nbformat_minor": 2
}
