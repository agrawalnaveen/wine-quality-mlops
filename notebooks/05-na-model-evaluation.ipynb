{
 "cells": [
  {
   "cell_type": "code",
   "execution_count": 1,
   "metadata": {},
   "outputs": [
    {
     "name": "stdout",
     "output_type": "stream",
     "text": [
      "/home/naveen/mlops/wine-quality-mlops\n"
     ]
    },
    {
     "data": {
      "text/plain": [
       "'/home/naveen/mlops/wine-quality-mlops'"
      ]
     },
     "execution_count": 1,
     "metadata": {},
     "output_type": "execute_result"
    }
   ],
   "source": [
    "%cd ..\n",
    "%pwd"
   ]
  },
  {
   "cell_type": "code",
   "execution_count": 2,
   "metadata": {},
   "outputs": [],
   "source": [
    "import joblib\n",
    "from pathlib import Path\n",
    "\n",
    "import mlflow\n",
    "import mlflow.sklearn\n",
    "import pandas as pd\n",
    "from sklearn.metrics import root_mean_squared_error, mean_absolute_error, r2_score"
   ]
  },
  {
   "cell_type": "code",
   "execution_count": 3,
   "metadata": {},
   "outputs": [],
   "source": [
    "train_data_file_path: Path = Path('data/transformed/train.csv')\n",
    "test_data_file_path: Path = Path('data/transformed/test.csv')\n",
    "target_column: str = 'quality'\n",
    "model_path = Path('models/ElasticNet')\n",
    "train_data = pd.read_csv(train_data_file_path)\n",
    "test_data = pd.read_csv(test_data_file_path)\n",
    "\n",
    "train_X = train_data.drop([target_column], axis=1)\n",
    "test_X = test_data.drop([target_column], axis=1)\n",
    "train_y = train_data[target_column]\n",
    "test_y = test_data[target_column]"
   ]
  },
  {
   "cell_type": "code",
   "execution_count": 20,
   "metadata": {},
   "outputs": [
    {
     "ename": "SyntaxError",
     "evalue": "cannot use double starred expression here (3239650485.py, line 1)",
     "output_type": "error",
     "traceback": [
      "\u001b[0;36m  Cell \u001b[0;32mIn[20], line 1\u001b[0;36m\u001b[0m\n\u001b[0;31m    y = (**params)\u001b[0m\n\u001b[0m         ^\u001b[0m\n\u001b[0;31mSyntaxError\u001b[0m\u001b[0;31m:\u001b[0m cannot use double starred expression here\n"
     ]
    }
   ],
   "source": []
  },
  {
   "cell_type": "code",
   "execution_count": 13,
   "metadata": {},
   "outputs": [],
   "source": [
    "# Tune hyperparameters\n",
    "params = {\n",
    "    'alpha': 0.5,\n",
    "    'l1_ratio': 0.3,\n",
    "}\n",
    "# Train model with new params\n",
    "from wine import model\n",
    "model.train(train_data_file_path=train_data_file_path,\n",
    "            target_column=target_column, **params,\n",
    "            model_path=model_path)\n",
    "\n",
    "# Predict on test set\n",
    "loaded_model = joblib.load(model_path)\n",
    "y_pred = loaded_model.predict(test_X)\n",
    "\n",
    "# Calculate metrics\n",
    "rmse = root_mean_squared_error(y_true=test_y, y_pred=y_pred)\n",
    "mae = mean_absolute_error(y_true=test_y, y_pred=y_pred)\n",
    "r2 = r2_score(y_true=test_y, y_pred=y_pred)\n",
    "\n",
    "metrics = {\n",
    "    'rmse': rmse,\n",
    "    'mae': mae,\n",
    "    'r2': r2,\n",
    "}"
   ]
  },
  {
   "cell_type": "code",
   "execution_count": 7,
   "metadata": {},
   "outputs": [
    {
     "data": {
      "text/plain": [
       "0.8000726678127325"
      ]
     },
     "execution_count": 7,
     "metadata": {},
     "output_type": "execute_result"
    }
   ],
   "source": [
    "rmse"
   ]
  },
  {
   "cell_type": "code",
   "execution_count": 8,
   "metadata": {},
   "outputs": [],
   "source": [
    "import os\n",
    "\n",
    "os.environ['MLFLOW_TRACKING_URI'] = 'https://dagshub.com/agrawalnaveen/wine-quality-mlops.mlflow'\n",
    "os.environ['MLFLOW_TRACKING_USERNAME'] = 'agrawalnaveen'\n",
    "os.environ['MLFLOW_TRACKING_PASSWORD'] = 'afcc5e09fde72bc9573fea2cdd1624185b74be16'"
   ]
  },
  {
   "cell_type": "code",
   "execution_count": 14,
   "metadata": {},
   "outputs": [],
   "source": [
    "# Set our tracking server uri for logging\n",
    "mlflow.set_tracking_uri(uri=\"https://dagshub.com/agrawalnaveen/wine-quality-mlops.mlflow\")\n",
    "# Create a new MLflow Experiment\n",
    "mlflow.set_experiment(\"Elastic Net Model\")\n",
    "# Start an MLflow run\n",
    "with mlflow.start_run():\n",
    "    # Log the hyperparameters\n",
    "    mlflow.log_params(params)\n",
    "\n",
    "    # Log the loss metric\n",
    "    mlflow.log_metrics(metrics)"
   ]
  },
  {
   "cell_type": "code",
   "execution_count": 35,
   "metadata": {},
   "outputs": [],
   "source": [
    "import json\n",
    "metrics_file_path = Path('models/metrics.json')\n",
    "with open(metrics_file_path, 'w') as metrics_file:\n",
    "    json_object = json.dump(metrics, metrics_file)"
   ]
  },
  {
   "cell_type": "code",
   "execution_count": 27,
   "metadata": {},
   "outputs": [
    {
     "name": "stdout",
     "output_type": "stream",
     "text": [
      "{\"rmse\": 0.7701641420705332, \"mae\": 0.6073926761485033, \"r2\": 0.1861445336806553}\n"
     ]
    }
   ],
   "source": [
    "print(json_object)"
   ]
  },
  {
   "cell_type": "code",
   "execution_count": 39,
   "metadata": {},
   "outputs": [],
   "source": [
    "with open(metrics_file_path, 'r') as metrics_file:\n",
    "        metrics = json.load(metrics_file)"
   ]
  },
  {
   "cell_type": "code",
   "execution_count": null,
   "metadata": {},
   "outputs": [],
   "source": [
    "export MLFLOW_TRACKING_URI=https://dagshub.com/agrawalnaveen/wine-quality-mlops.mlflow \\\n",
    "export MLFLOW_TRACKING_USERNAME=agrawalnaveen \\\n",
    "export MLFLOW_TRACKING_PASSWORD=afcc5e09fde72bc9573fea2cdd1624185b74be16 \\\n",
    "python script.py"
   ]
  }
 ],
 "metadata": {
  "kernelspec": {
   "display_name": ".venv",
   "language": "python",
   "name": "python3"
  },
  "language_info": {
   "codemirror_mode": {
    "name": "ipython",
    "version": 3
   },
   "file_extension": ".py",
   "mimetype": "text/x-python",
   "name": "python",
   "nbconvert_exporter": "python",
   "pygments_lexer": "ipython3",
   "version": "3.12.1"
  }
 },
 "nbformat": 4,
 "nbformat_minor": 2
}
